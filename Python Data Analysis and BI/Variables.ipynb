{
 "cells": [
  {
   "cell_type": "markdown",
   "id": "273222aa",
   "metadata": {},
   "source": [
    "# Variables are containers used to label and store values for future reference\n",
    "• They can store any Python data type (and even calls to functions!)"
   ]
  },
  {
   "cell_type": "code",
   "execution_count": null,
   "id": "3e1ac6a1",
   "metadata": {},
   "outputs": [],
   "source": [
    "price = 5"
   ]
  },
  {
   "cell_type": "code",
   "execution_count": null,
   "id": "3ca68c75",
   "metadata": {},
   "outputs": [],
   "source": [
    "print(price)"
   ]
  },
  {
   "cell_type": "code",
   "execution_count": null,
   "id": "f546b7cd",
   "metadata": {},
   "outputs": [],
   "source": [
    "price = 5\n",
    "print(price + 1)"
   ]
  },
  {
   "cell_type": "code",
   "execution_count": null,
   "id": "3fa2377d",
   "metadata": {},
   "outputs": [],
   "source": [
    "tax = 2\n",
    "\n",
    "print(price + tax)"
   ]
  },
  {
   "cell_type": "code",
   "execution_count": null,
   "id": "7792e75f",
   "metadata": {},
   "outputs": [],
   "source": [
    "product_name = 'skis'\n",
    "\n",
    "print(product_name)"
   ]
  },
  {
   "cell_type": "code",
   "execution_count": null,
   "id": "f638bac8",
   "metadata": {},
   "outputs": [],
   "source": [
    "price_list = [2.50, 4.99, 10, None, 'Discount']\n",
    "\n",
    "price_list_type = type(price_list)\n",
    "\n",
    "price_list_type"
   ]
  },
  {
   "cell_type": "code",
   "execution_count": null,
   "id": "1a91e0b6",
   "metadata": {},
   "outputs": [],
   "source": [
    "price_list = [2.50, 4.99, 10, None, 'PROMO']\n",
    "\n",
    "print_price_list = print(price_list)\n",
    "\n",
    "print_price_list"
   ]
  },
  {
   "cell_type": "markdown",
   "id": "26ae11b1",
   "metadata": {},
   "source": [
    "### Tax Printing Code Change\n",
    "\n",
    "Adds a dollar in tax to the price before printing. \n",
    "The tax will no longer be fixed at one dollar, so:\n",
    "* Create a ‘tax’ variable and assign it a value of 2\n",
    "* Create a ‘total’ variable equal to ‘price’ + ‘tax’\n",
    "* Print ‘total’\n"
   ]
  },
  {
   "cell_type": "code",
   "execution_count": null,
   "id": "ba787c4c",
   "metadata": {},
   "outputs": [],
   "source": [
    "price = 5\n",
    "\n",
    "print(price + 1)"
   ]
  },
  {
   "cell_type": "code",
   "execution_count": null,
   "id": "47bf488c",
   "metadata": {},
   "outputs": [],
   "source": [
    "price = 5\n",
    "tax = 2\n",
    "total = price + tax\n",
    "\n",
    "print(total)"
   ]
  },
  {
   "cell_type": "markdown",
   "id": "341500b7",
   "metadata": {},
   "source": [
    "# Overwrite a variable"
   ]
  },
  {
   "cell_type": "code",
   "execution_count": null,
   "id": "33956d0b",
   "metadata": {},
   "outputs": [],
   "source": [
    "price = 5\n",
    "price = 6\n",
    "price = 7\n",
    "\n",
    "print(price)"
   ]
  },
  {
   "cell_type": "code",
   "execution_count": null,
   "id": "84034cac",
   "metadata": {},
   "outputs": [],
   "source": [
    "price = 5\n",
    "new_price = 6\n",
    "\n",
    "print(price, new_price)"
   ]
  },
  {
   "cell_type": "code",
   "execution_count": null,
   "id": "b606c98d",
   "metadata": {},
   "outputs": [],
   "source": [
    "snowboard_inventory = 100\n",
    "print(snowboard_inventory)"
   ]
  },
  {
   "cell_type": "code",
   "execution_count": null,
   "id": "7085fe8a",
   "metadata": {},
   "outputs": [],
   "source": [
    "snowboard_inventory = 85\n",
    "print(snowboard_inventory)"
   ]
  },
  {
   "cell_type": "code",
   "execution_count": null,
   "id": "a8d88c53",
   "metadata": {},
   "outputs": [],
   "source": [
    "old_snowboard_inventory = 85\n",
    "snowboard_inventory = 70\n",
    "\n",
    "print(old_snowboard_inventory, snowboard_inventory)"
   ]
  },
  {
   "cell_type": "code",
   "execution_count": null,
   "id": "133d09bc",
   "metadata": {},
   "outputs": [],
   "source": [
    "old_snowboard_inventory = 85\n",
    "snowboard_inventory = 70\n",
    "\n",
    "snowboard_inventory = old_snowboard_inventory\n",
    "print(snowboard_inventory)"
   ]
  },
  {
   "cell_type": "code",
   "execution_count": null,
   "id": "e86fd78b",
   "metadata": {},
   "outputs": [],
   "source": [
    "del old_snowboard_inventory"
   ]
  },
  {
   "cell_type": "code",
   "execution_count": null,
   "id": "86234768",
   "metadata": {},
   "outputs": [],
   "source": [
    "print(old_snowboard_inventory)"
   ]
  },
  {
   "cell_type": "code",
   "execution_count": null,
   "id": "9cfff0ac",
   "metadata": {},
   "outputs": [],
   "source": [
    "old_snowboard_inventory = 100"
   ]
  },
  {
   "cell_type": "code",
   "execution_count": null,
   "id": "916d31f1",
   "metadata": {},
   "outputs": [],
   "source": [
    "old_snowboard_inventory"
   ]
  },
  {
   "cell_type": "markdown",
   "id": "7fa4dfc8",
   "metadata": {},
   "source": [
    "# Tracking Variables\n",
    "Use %who and %whos"
   ]
  },
  {
   "cell_type": "code",
   "execution_count": null,
   "id": "11e9739a",
   "metadata": {},
   "outputs": [],
   "source": [
    "price = 10\n",
    "product = 'Super Snowboard'\n",
    "Date = '10-Jan-2023'\n",
    "dimentsions = [160, 25, 2]"
   ]
  },
  {
   "cell_type": "code",
   "execution_count": null,
   "id": "98012dd5",
   "metadata": {},
   "outputs": [],
   "source": [
    "# returns variable names"
   ]
  },
  {
   "cell_type": "code",
   "execution_count": null,
   "id": "0ad208ba",
   "metadata": {},
   "outputs": [],
   "source": [
    "%who"
   ]
  },
  {
   "cell_type": "code",
   "execution_count": null,
   "id": "aefa65b6",
   "metadata": {},
   "outputs": [],
   "source": [
    "# returns variale names, types and information on the data contained"
   ]
  },
  {
   "cell_type": "code",
   "execution_count": null,
   "id": "9c4d8a51",
   "metadata": {},
   "outputs": [],
   "source": [
    "%whos"
   ]
  },
  {
   "cell_type": "code",
   "execution_count": null,
   "id": "c846e351",
   "metadata": {},
   "outputs": [],
   "source": [
    "snowboard_inventory = 100\n",
    "new_snowboard_inventory = 85"
   ]
  },
  {
   "cell_type": "code",
   "execution_count": null,
   "id": "8a7c8259",
   "metadata": {},
   "outputs": [],
   "source": [
    "product = 'Super Snowboard'\n",
    "size = 'Medium'\n",
    "dimentsions = [160, 25, 2]\n",
    "\n",
    "%who"
   ]
  },
  {
   "cell_type": "code",
   "execution_count": null,
   "id": "57bda285",
   "metadata": {},
   "outputs": [],
   "source": [
    "%whos"
   ]
  },
  {
   "cell_type": "code",
   "execution_count": null,
   "id": "c2b50acf",
   "metadata": {},
   "outputs": [],
   "source": [
    "items_2024 = ['skis', 'snowboard', 'sled']\n",
    "items_2024"
   ]
  },
  {
   "cell_type": "code",
   "execution_count": null,
   "id": "18dfffad",
   "metadata": {},
   "outputs": [],
   "source": [
    "2024_items"
   ]
  },
  {
   "cell_type": "code",
   "execution_count": null,
   "id": "0b297fcf",
   "metadata": {},
   "outputs": [],
   "source": [
    "2024 - items_2024"
   ]
  },
  {
   "cell_type": "markdown",
   "id": "dd285626",
   "metadata": {},
   "source": [
    "Variables are given names in the format 'price_list_year' by filling in the correct year and cleaning up any unncessary variable names."
   ]
  },
  {
   "cell_type": "code",
   "execution_count": null,
   "id": "882de2a7",
   "metadata": {},
   "outputs": [],
   "source": [
    "# The following variable names are intuitive and follow Python naming rules\n",
    "price_list_2018 = [4.99, 8.99, 17.99, 22.99, 94.99]\n",
    "prices_FOR_2018 = [4.99, 8.99, 17.99, 22.99, 94.99]\n",
    "price_list_2019 = [5.99, 9.99, 19.99, 24.99, 99.99] \n",
    "price_list_2020 = [6.49, 10.49, 19.99, 26.99, 104.99]"
   ]
  },
  {
   "cell_type": "code",
   "execution_count": null,
   "id": "9e684fe7",
   "metadata": {},
   "outputs": [],
   "source": [
    "price_list_2018 = [4.99, 8.99, 17.99, 22.99, 94.99]\n",
    "type(price_list_2018)"
   ]
  },
  {
   "cell_type": "code",
   "execution_count": null,
   "id": "f8797fca",
   "metadata": {},
   "outputs": [],
   "source": [
    "prices_FOR_2018 = [4.99, 8.99, 17.99, 22.99, 94.99]\n",
    "type(prices_FOR_2018)"
   ]
  },
  {
   "cell_type": "code",
   "execution_count": null,
   "id": "8ea19fff",
   "metadata": {},
   "outputs": [],
   "source": [
    "price_list-2019 = [5.99, 9.99, 19.99, 24.99, 99.99] \n",
    "type(price_list-2019)"
   ]
  },
  {
   "cell_type": "code",
   "execution_count": null,
   "id": "12cd303c",
   "metadata": {},
   "outputs": [],
   "source": [
    "price_list_2019 = [5.99, 9.99, 19.99, 24.99, 99.99] \n",
    "type(price_list_2019)"
   ]
  },
  {
   "cell_type": "code",
   "execution_count": null,
   "id": "78c92069",
   "metadata": {},
   "outputs": [],
   "source": [
    "2020 list = [6.49, 10.49, 19.99, 26.99, 104.99]\n",
    "type(2020 list)"
   ]
  },
  {
   "cell_type": "code",
   "execution_count": null,
   "id": "79460869",
   "metadata": {},
   "outputs": [],
   "source": [
    "price_list_2020 = [6.49, 10.49, 19.99, 26.99, 104.99]\n",
    "type(price_list_2020)"
   ]
  },
  {
   "cell_type": "code",
   "execution_count": 1,
   "id": "82425bf5",
   "metadata": {},
   "outputs": [],
   "source": [
    "price_list_2018 = [4.99, 8.99, 17.99, 22.99, 94.99]\n",
    "prices_FOR_2018 = [4.99, 8.99, 17.99, 22.99, 94.99]\n",
    "price_list_2019 = [5.99, 9.99, 19.99, 24.99, 99.99] \n",
    "price_list_2020 = [6.49, 10.49, 19.99, 26.99, 104.99]"
   ]
  },
  {
   "cell_type": "code",
   "execution_count": 2,
   "id": "9fae24fe",
   "metadata": {},
   "outputs": [
    {
     "name": "stdout",
     "output_type": "stream",
     "text": [
      "Variable          Type    Data/Info\n",
      "-----------------------------------\n",
      "price_list_2018   list    n=5\n",
      "price_list_2019   list    n=5\n",
      "price_list_2020   list    n=5\n",
      "prices_FOR_2018   list    n=5\n"
     ]
    }
   ],
   "source": [
    "%whos"
   ]
  },
  {
   "cell_type": "code",
   "execution_count": null,
   "id": "d9fb07ac",
   "metadata": {},
   "outputs": [],
   "source": []
  },
  {
   "cell_type": "code",
   "execution_count": null,
   "id": "f2d7a46d",
   "metadata": {},
   "outputs": [],
   "source": []
  },
  {
   "cell_type": "code",
   "execution_count": null,
   "id": "f35625de",
   "metadata": {},
   "outputs": [],
   "source": []
  },
  {
   "cell_type": "code",
   "execution_count": null,
   "id": "21521eed",
   "metadata": {},
   "outputs": [],
   "source": []
  },
  {
   "cell_type": "code",
   "execution_count": null,
   "id": "177d9b43",
   "metadata": {},
   "outputs": [],
   "source": []
  },
  {
   "cell_type": "code",
   "execution_count": null,
   "id": "2cd7246a",
   "metadata": {},
   "outputs": [],
   "source": []
  }
 ],
 "metadata": {
  "kernelspec": {
   "display_name": "Python 3 (ipykernel)",
   "language": "python",
   "name": "python3"
  },
  "language_info": {
   "codemirror_mode": {
    "name": "ipython",
    "version": 3
   },
   "file_extension": ".py",
   "mimetype": "text/x-python",
   "name": "python",
   "nbconvert_exporter": "python",
   "pygments_lexer": "ipython3",
   "version": "3.9.7"
  }
 },
 "nbformat": 4,
 "nbformat_minor": 5
}
