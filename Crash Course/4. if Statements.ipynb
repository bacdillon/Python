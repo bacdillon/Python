{
 "cells": [
  {
   "cell_type": "markdown",
   "id": "d2333f97",
   "metadata": {},
   "source": [
    "# if Statements"
   ]
  },
  {
   "cell_type": "code",
   "execution_count": 5,
   "id": "db95292d",
   "metadata": {},
   "outputs": [
    {
     "name": "stdout",
     "output_type": "stream",
     "text": [
      "BMW\n",
      "Toyota\n"
     ]
    }
   ],
   "source": [
    "cars = ['audi', 'bmw', 'subaru', 'toyota']\n",
    "\n",
    "for car in cars:\n",
    "    if car == 'bmw':\n",
    "        print(car.upper())\n",
    "else:\n",
    "    print(car.title())"
   ]
  },
  {
   "cell_type": "markdown",
   "id": "d72f2159",
   "metadata": {},
   "source": [
    "# Conditional Tests"
   ]
  },
  {
   "cell_type": "markdown",
   "id": "efb0402b",
   "metadata": {},
   "source": [
    "if statement is an expression that can be evaluated as\n",
    "True or False and is called a conditional test. Python uses the values True and\n",
    "False to decide whether the code in an if statement should be executed."
   ]
  },
  {
   "cell_type": "markdown",
   "id": "1d109a5e",
   "metadata": {},
   "source": [
    "Checking for Equality"
   ]
  },
  {
   "cell_type": "code",
   "execution_count": 9,
   "id": "54a727a7",
   "metadata": {},
   "outputs": [
    {
     "data": {
      "text/plain": [
       "True"
      ]
     },
     "execution_count": 9,
     "metadata": {},
     "output_type": "execute_result"
    }
   ],
   "source": [
    "car = 'bmw'\n",
    "car == 'bmw'"
   ]
  },
  {
   "cell_type": "code",
   "execution_count": 10,
   "id": "4128bad5",
   "metadata": {},
   "outputs": [
    {
     "data": {
      "text/plain": [
       "False"
      ]
     },
     "execution_count": 10,
     "metadata": {},
     "output_type": "execute_result"
    }
   ],
   "source": [
    "car = 'audi'\n",
    "car == 'bmw'\n"
   ]
  },
  {
   "cell_type": "markdown",
   "id": "3272df6f",
   "metadata": {},
   "source": [
    "# Ignoring Case When Checking for Equality\n",
    "\n",
    "Testing for equality is case sensitive in Python. For example, two values with\n",
    "different capitalization are not considered equal:"
   ]
  },
  {
   "cell_type": "code",
   "execution_count": 12,
   "id": "cb849ca3",
   "metadata": {},
   "outputs": [
    {
     "data": {
      "text/plain": [
       "False"
      ]
     },
     "execution_count": 12,
     "metadata": {},
     "output_type": "execute_result"
    }
   ],
   "source": [
    "car = 'Audi'\n",
    "car == 'audi'\n"
   ]
  },
  {
   "cell_type": "code",
   "execution_count": 13,
   "id": "c5a6b339",
   "metadata": {},
   "outputs": [
    {
     "data": {
      "text/plain": [
       "True"
      ]
     },
     "execution_count": 13,
     "metadata": {},
     "output_type": "execute_result"
    }
   ],
   "source": [
    "car = 'Audi'\n",
    "car.lower() == 'audi'"
   ]
  },
  {
   "cell_type": "code",
   "execution_count": 14,
   "id": "067e4fe5",
   "metadata": {},
   "outputs": [
    {
     "data": {
      "text/plain": [
       "'Audi'"
      ]
     },
     "execution_count": 14,
     "metadata": {},
     "output_type": "execute_result"
    }
   ],
   "source": [
    "car"
   ]
  },
  {
   "cell_type": "markdown",
   "id": "4cbacb64",
   "metadata": {},
   "source": [
    "# Checking for Inequality\n",
    "\n",
    "When you want to determine whether two values are not equal, you can\n",
    "combine an exclamation point and an equal sign (!=)."
   ]
  },
  {
   "cell_type": "code",
   "execution_count": 17,
   "id": "d30a71ab",
   "metadata": {},
   "outputs": [
    {
     "name": "stdout",
     "output_type": "stream",
     "text": [
      "Hold the anchovies!\n"
     ]
    }
   ],
   "source": [
    "requested_topping = 'mushrooms'\n",
    "if requested_topping != 'anchovies':\n",
    "    print(\"Hold the anchovies!\")"
   ]
  },
  {
   "cell_type": "markdown",
   "id": "74345850",
   "metadata": {},
   "source": [
    "# Numerical Comparisons\n",
    "\n",
    "checks whether a person is 18 years old:"
   ]
  },
  {
   "cell_type": "code",
   "execution_count": 18,
   "id": "43a44702",
   "metadata": {},
   "outputs": [
    {
     "data": {
      "text/plain": [
       "True"
      ]
     },
     "execution_count": 18,
     "metadata": {},
     "output_type": "execute_result"
    }
   ],
   "source": [
    "age = 18\n",
    "age == 18"
   ]
  },
  {
   "cell_type": "code",
   "execution_count": 21,
   "id": "bf99596d",
   "metadata": {},
   "outputs": [
    {
     "name": "stdout",
     "output_type": "stream",
     "text": [
      "That is not the correct answer. Please try again!\n"
     ]
    }
   ],
   "source": [
    "answer = 17\n",
    "\n",
    "if answer != 42:\n",
    "    print(\"That is not the correct answer. Please try again!\")"
   ]
  },
  {
   "cell_type": "code",
   "execution_count": 23,
   "id": "ac0526b8",
   "metadata": {},
   "outputs": [
    {
     "data": {
      "text/plain": [
       "True"
      ]
     },
     "execution_count": 23,
     "metadata": {},
     "output_type": "execute_result"
    }
   ],
   "source": [
    "age = 19\n",
    "age < 21\n",
    "\n"
   ]
  },
  {
   "cell_type": "code",
   "execution_count": 24,
   "id": "832891de",
   "metadata": {},
   "outputs": [
    {
     "data": {
      "text/plain": [
       "False"
      ]
     },
     "execution_count": 24,
     "metadata": {},
     "output_type": "execute_result"
    }
   ],
   "source": [
    "age <= 21\n",
    "age > 21"
   ]
  },
  {
   "cell_type": "code",
   "execution_count": 25,
   "id": "71db3eed",
   "metadata": {},
   "outputs": [
    {
     "data": {
      "text/plain": [
       "False"
      ]
     },
     "execution_count": 25,
     "metadata": {},
     "output_type": "execute_result"
    }
   ],
   "source": [
    "age >= 21"
   ]
  },
  {
   "cell_type": "markdown",
   "id": "1ac56895",
   "metadata": {},
   "source": [
    "# Checking Multiple Conditions"
   ]
  },
  {
   "cell_type": "code",
   "execution_count": 26,
   "id": "87453f75",
   "metadata": {},
   "outputs": [
    {
     "data": {
      "text/plain": [
       "False"
      ]
     },
     "execution_count": 26,
     "metadata": {},
     "output_type": "execute_result"
    }
   ],
   "source": [
    "age_0 = 22\n",
    "age_1 = 18\n",
    "\n",
    "age_0 >= 21 and age_1 >= 21"
   ]
  },
  {
   "cell_type": "code",
   "execution_count": 27,
   "id": "1e1cd0cd",
   "metadata": {},
   "outputs": [
    {
     "data": {
      "text/plain": [
       "True"
      ]
     },
     "execution_count": 27,
     "metadata": {},
     "output_type": "execute_result"
    }
   ],
   "source": [
    "age_1 = 22\n",
    "age_0 >= 21 and age_1 >= 21"
   ]
  },
  {
   "cell_type": "code",
   "execution_count": 29,
   "id": "bc5ed0fa",
   "metadata": {},
   "outputs": [],
   "source": [
    "age_0 = 22\n",
    "age_1 = 18"
   ]
  },
  {
   "cell_type": "markdown",
   "id": "dd833b96",
   "metadata": {},
   "source": [
    "To improve readability, you can use parentheses\n"
   ]
  },
  {
   "cell_type": "code",
   "execution_count": 30,
   "id": "a256d5a7",
   "metadata": {},
   "outputs": [
    {
     "data": {
      "text/plain": [
       "False"
      ]
     },
     "execution_count": 30,
     "metadata": {},
     "output_type": "execute_result"
    }
   ],
   "source": [
    "(age_0 >= 21) and (age_1 >= 21)"
   ]
  },
  {
   "cell_type": "markdown",
   "id": "22af2982",
   "metadata": {},
   "source": [
    "# Checking Whether a Value Is in a List"
   ]
  },
  {
   "cell_type": "code",
   "execution_count": 31,
   "id": "db171dc2",
   "metadata": {},
   "outputs": [],
   "source": [
    "requested_toppings = ['mushrooms', 'onions', 'pineapple']"
   ]
  },
  {
   "cell_type": "code",
   "execution_count": 32,
   "id": "1630a422",
   "metadata": {},
   "outputs": [
    {
     "data": {
      "text/plain": [
       "True"
      ]
     },
     "execution_count": 32,
     "metadata": {},
     "output_type": "execute_result"
    }
   ],
   "source": [
    "'mushrooms' in requested_toppings"
   ]
  },
  {
   "cell_type": "code",
   "execution_count": 33,
   "id": "cdfbded2",
   "metadata": {},
   "outputs": [
    {
     "data": {
      "text/plain": [
       "False"
      ]
     },
     "execution_count": 33,
     "metadata": {},
     "output_type": "execute_result"
    }
   ],
   "source": [
    "'pepperoni' in requested_toppings"
   ]
  },
  {
   "cell_type": "markdown",
   "id": "e7bc6523",
   "metadata": {},
   "source": [
    "# Checking Whether a Value Is Not in a List"
   ]
  },
  {
   "cell_type": "code",
   "execution_count": 37,
   "id": "ee57c687",
   "metadata": {},
   "outputs": [
    {
     "name": "stdout",
     "output_type": "stream",
     "text": [
      "['andrew', 'carolina', 'david']\n",
      "Marie, you can post a response if you wish.\n"
     ]
    }
   ],
   "source": [
    "banned_users = ['andrew', 'carolina', 'david']\n",
    "user = 'marie'\n",
    "\n",
    "print(banned_users) \n",
    "\n",
    "if user not in banned_users:\n",
    "    print(user.title() + \", you can post a response if you wish.\")"
   ]
  },
  {
   "cell_type": "markdown",
   "id": "d8d0af91",
   "metadata": {},
   "source": [
    "# Boolean Expressions"
   ]
  },
  {
   "cell_type": "markdown",
   "id": "c6d27d13",
   "metadata": {},
   "source": [
    "A Boolean expression is just another name for a\n",
    "conditional test. A Boolean value is either True or False, just like the value\n",
    "of a conditional expression after it has been evaluated.\n",
    "Boolean values are often used to keep track of certain conditions, such\n",
    "as whether a game is running or whether a user can edit certain content on\n",
    "a website:"
   ]
  },
  {
   "cell_type": "code",
   "execution_count": 38,
   "id": "c1bb1a75",
   "metadata": {},
   "outputs": [],
   "source": [
    "game_active = True\n",
    "can_edit = False"
   ]
  },
  {
   "cell_type": "markdown",
   "id": "df349572",
   "metadata": {},
   "source": [
    "# if-else Statements"
   ]
  },
  {
   "cell_type": "code",
   "execution_count": 40,
   "id": "a2fc807d",
   "metadata": {},
   "outputs": [
    {
     "name": "stdout",
     "output_type": "stream",
     "text": [
      "Sorry, you are too young to vote.\n",
      "Please register to vote as soon as you turn 18!\n"
     ]
    }
   ],
   "source": [
    "age = 17\n",
    "\n",
    "if age >= 18:\n",
    "    print(\"You are old enough to vote!\")\n",
    "    print(\"Have you registered to vote yet?\")\n",
    "else:\n",
    "    print(\"Sorry, you are too young to vote.\")\n",
    "    print(\"Please register to vote as soon as you turn 18!\")"
   ]
  },
  {
   "cell_type": "markdown",
   "id": "89d35c24",
   "metadata": {},
   "source": [
    "# The if-elif-else Chain"
   ]
  },
  {
   "cell_type": "markdown",
   "id": "f5df288c",
   "metadata": {},
   "source": [
    "The if-elif-else chain is powerful, but it’s only appropriate to use when you\n",
    "just need one test to pass. As soon as Python finds one test that passes, it\n",
    "skips the rest of the tests. This behavior is beneficial, because it’s efficient\n",
    "and allows you to test for one specific condition."
   ]
  },
  {
   "cell_type": "code",
   "execution_count": 43,
   "id": "c7eb6af2",
   "metadata": {},
   "outputs": [
    {
     "name": "stdout",
     "output_type": "stream",
     "text": [
      "Your admission cost is $5.\n"
     ]
    }
   ],
   "source": [
    "age = 12\n",
    "\n",
    "if age < 4:\n",
    "    print(\"Your admission cost is $0.\")\n",
    "elif age < 18:\n",
    "    print(\"Your admission cost is $5.\")\n",
    "else:\n",
    "    print(\"Your admission cost is $10.\")"
   ]
  },
  {
   "cell_type": "markdown",
   "id": "84a9b0eb",
   "metadata": {},
   "source": [
    "it would be more concise to set just the price inside the if-elif-else chain\n",
    "and then have a simple print statement that runs after the chain has been\n",
    "evaluated:"
   ]
  },
  {
   "cell_type": "code",
   "execution_count": 44,
   "id": "ed12f288",
   "metadata": {},
   "outputs": [
    {
     "name": "stdout",
     "output_type": "stream",
     "text": [
      "Your admission cost is $5.\n"
     ]
    }
   ],
   "source": [
    "age = 12\n",
    "if age < 4:\n",
    "    price = 0\n",
    "elif age < 18:\n",
    "    price = 5\n",
    "else:\n",
    "    price = 10\n",
    "    \n",
    "print(\"Your admission cost is $\" + str(price) + \".\")"
   ]
  },
  {
   "cell_type": "markdown",
   "id": "abe17074",
   "metadata": {},
   "source": [
    "# Using Multiple elif Blocks"
   ]
  },
  {
   "cell_type": "code",
   "execution_count": 46,
   "id": "7fdb850a",
   "metadata": {},
   "outputs": [
    {
     "name": "stdout",
     "output_type": "stream",
     "text": [
      "Your admission cost is $5.\n"
     ]
    }
   ],
   "source": [
    "age = 12\n",
    "if age < 4:\n",
    "    price = 0\n",
    "elif age < 18:\n",
    "    price = 5\n",
    "elif age < 65:\n",
    "    price = 10\n",
    "else:\n",
    "    price = 5\n",
    "    \n",
    "print(\"Your admission cost is $\" + str(price) + \".\")"
   ]
  },
  {
   "cell_type": "markdown",
   "id": "5b00dfb5",
   "metadata": {},
   "source": [
    "# Testing Multiple Conditions"
   ]
  },
  {
   "cell_type": "markdown",
   "id": "d091c6c6",
   "metadata": {},
   "source": [
    "This technique makes sense when more than one condition\n",
    "could be True, and you want to act on every condition that is True."
   ]
  },
  {
   "cell_type": "code",
   "execution_count": 51,
   "id": "2d6ebe09",
   "metadata": {},
   "outputs": [
    {
     "name": "stdout",
     "output_type": "stream",
     "text": [
      "Adding mushrooms.\n",
      "Adding extra cheese.\n",
      "\n",
      "Finished making your pizza!\n"
     ]
    }
   ],
   "source": [
    "requested_toppings = ['mushrooms', 'extra cheese']\n",
    "\n",
    "if 'mushrooms' in requested_toppings:\n",
    "    print(\"Adding mushrooms.\")\n",
    "    \n",
    "if 'pepperoni' in requested_toppings:\n",
    "    print(\"Adding pepperoni.\")\n",
    "    \n",
    "if 'extra cheese' in requested_toppings:\n",
    "    print(\"Adding extra cheese.\")\n",
    "    \n",
    "print(\"\\nFinished making your pizza!\")\n",
    "        \n",
    "        "
   ]
  },
  {
   "cell_type": "markdown",
   "id": "d206f1c0",
   "metadata": {},
   "source": [
    "This code would not work properly if we used an if-elif-else block,\n",
    "because the code would stop running after only one test passes. Here’s what\n",
    "that would look like:"
   ]
  },
  {
   "cell_type": "code",
   "execution_count": 53,
   "id": "f4e9bb35",
   "metadata": {},
   "outputs": [
    {
     "name": "stdout",
     "output_type": "stream",
     "text": [
      "Adding mushrooms.\n",
      "\n",
      "Finished making your pizza!\n"
     ]
    }
   ],
   "source": [
    "requested_toppings = ['mushrooms', 'extra cheese']\n",
    "\n",
    "if 'mushrooms' in requested_toppings:\n",
    "    print(\"Adding mushrooms.\")\n",
    "elif 'pepperoni' in requested_toppings:\n",
    "    print(\"Adding pepperoni.\")\n",
    "elif 'extra cheese' in requested_toppings:\n",
    "    print(\"Adding extra cheese.\")\n",
    "    \n",
    "print(\"\\nFinished making your pizza!\")"
   ]
  },
  {
   "cell_type": "markdown",
   "id": "b55685de",
   "metadata": {},
   "source": [
    "# Using if Statements with Lists"
   ]
  },
  {
   "cell_type": "markdown",
   "id": "17cca490",
   "metadata": {},
   "source": [
    "when you combine lists and if statements.\n",
    "You can watch for special values that need to be treated differently\n",
    "than other values in the list. You can manage changing conditions efficiently,\n",
    "such as the availability of certain items in a restaurant throughout a\n",
    "shift. You can also begin to prove that your code works as you expect it to in\n",
    "all possible situations."
   ]
  },
  {
   "cell_type": "markdown",
   "id": "1ff8970f",
   "metadata": {},
   "source": [
    "Checking for Special Items"
   ]
  },
  {
   "cell_type": "code",
   "execution_count": 54,
   "id": "42f63d5a",
   "metadata": {},
   "outputs": [
    {
     "name": "stdout",
     "output_type": "stream",
     "text": [
      "Adding mushrooms.\n",
      "Adding green peppers.\n",
      "Adding extra cheese.\n",
      "\n",
      "Finished making your pizza!\n"
     ]
    }
   ],
   "source": [
    "requested_toppings = ['mushrooms', 'green peppers', 'extra cheese']\n",
    "\n",
    "for requested_topping in requested_toppings:\n",
    "    print(\"Adding \" + requested_topping + \".\")\n",
    "print(\"\\nFinished making your pizza!\")"
   ]
  },
  {
   "cell_type": "markdown",
   "id": "65940779",
   "metadata": {},
   "source": [
    "what if the pizzeria runs out of green peppers? An if statement\n",
    "inside the for loop can handle this situation appropriately:"
   ]
  },
  {
   "cell_type": "code",
   "execution_count": 55,
   "id": "cda0ae3a",
   "metadata": {},
   "outputs": [
    {
     "name": "stdout",
     "output_type": "stream",
     "text": [
      "Sorry, we are out of green peppers right now.\n",
      "Adding extra cheese.\n",
      "\n",
      "Finished making your pizza!\n"
     ]
    }
   ],
   "source": [
    "requested_toppings = ['mushrooms', 'green peppers', 'extra cheese']\n",
    "\n",
    "for requested_topping in requested_toppings:\n",
    "    if requested_topping == 'green peppers':\n",
    "        print(\"Sorry, we are out of green peppers right now.\")\n",
    "else:\n",
    "    print(\"Adding \" + requested_topping + \".\")\n",
    "    \n",
    "print(\"\\nFinished making your pizza!\")"
   ]
  },
  {
   "cell_type": "markdown",
   "id": "5addf85f",
   "metadata": {},
   "source": [
    "# Checking That a List Is Not Empty"
   ]
  },
  {
   "cell_type": "code",
   "execution_count": 61,
   "id": "66e79b45",
   "metadata": {},
   "outputs": [
    {
     "name": "stdout",
     "output_type": "stream",
     "text": [
      "Are you sure you want a plain pizza?\n"
     ]
    }
   ],
   "source": [
    "requested_toppings = []\n",
    "\n",
    "if requested_toppings:\n",
    "    for requested_topping in requested_toppings:\n",
    "        print(\"Adding \" + requested_topping + \".\")\n",
    "    print(\"\\nFinished making your pizza!\")\n",
    "else:\n",
    "    print(\"Are you sure you want a plain pizza?\")"
   ]
  },
  {
   "cell_type": "markdown",
   "id": "216be424",
   "metadata": {},
   "source": [
    "# Using Multiple Lists"
   ]
  },
  {
   "cell_type": "markdown",
   "id": "e8e09733",
   "metadata": {},
   "source": [
    "What if a customer actually wants french fries on their pizza? You\n",
    "can use lists and if statements to make sure your input makes sense before\n",
    "you act on it."
   ]
  },
  {
   "cell_type": "code",
   "execution_count": 65,
   "id": "d9134d13",
   "metadata": {},
   "outputs": [],
   "source": [
    "available_toppings = ['mushrooms', 'olives', 'green peppers', 'pepperoni', 'pineapple', 'extra cheese']"
   ]
  },
  {
   "cell_type": "code",
   "execution_count": 66,
   "id": "4cf44659",
   "metadata": {},
   "outputs": [],
   "source": [
    "requested_toppings = ['mushrooms', 'french fries', 'extra cheese']"
   ]
  },
  {
   "cell_type": "code",
   "execution_count": 67,
   "id": "56b5a537",
   "metadata": {},
   "outputs": [
    {
     "name": "stdout",
     "output_type": "stream",
     "text": [
      "Adding mushrooms.\n",
      "Sorry, we don't have french fries.\n",
      "Adding extra cheese.\n",
      "\n",
      "Finished making your pizza!\n"
     ]
    }
   ],
   "source": [
    "for requested_topping in requested_toppings:\n",
    "    if requested_topping in available_toppings:\n",
    "        print(\"Adding \" + requested_topping + \".\")\n",
    "    else:\n",
    "        print(\"Sorry, we don't have \" + requested_topping + \".\")\n",
    "        \n",
    "print(\"\\nFinished making your pizza!\")"
   ]
  },
  {
   "cell_type": "code",
   "execution_count": null,
   "id": "0f3fd49f",
   "metadata": {},
   "outputs": [],
   "source": []
  },
  {
   "cell_type": "code",
   "execution_count": null,
   "id": "95d189a0",
   "metadata": {},
   "outputs": [],
   "source": []
  },
  {
   "cell_type": "code",
   "execution_count": null,
   "id": "aef966a0",
   "metadata": {},
   "outputs": [],
   "source": []
  },
  {
   "cell_type": "code",
   "execution_count": null,
   "id": "60e28246",
   "metadata": {},
   "outputs": [],
   "source": []
  },
  {
   "cell_type": "code",
   "execution_count": null,
   "id": "4cc00ba5",
   "metadata": {},
   "outputs": [],
   "source": []
  },
  {
   "cell_type": "code",
   "execution_count": null,
   "id": "b5c6bac2",
   "metadata": {},
   "outputs": [],
   "source": []
  },
  {
   "cell_type": "code",
   "execution_count": null,
   "id": "d917c9bd",
   "metadata": {},
   "outputs": [],
   "source": []
  },
  {
   "cell_type": "code",
   "execution_count": null,
   "id": "ff67f93c",
   "metadata": {},
   "outputs": [],
   "source": []
  },
  {
   "cell_type": "code",
   "execution_count": null,
   "id": "e7c40cd3",
   "metadata": {},
   "outputs": [],
   "source": []
  }
 ],
 "metadata": {
  "kernelspec": {
   "display_name": "Python 3 (ipykernel)",
   "language": "python",
   "name": "python3"
  },
  "language_info": {
   "codemirror_mode": {
    "name": "ipython",
    "version": 3
   },
   "file_extension": ".py",
   "mimetype": "text/x-python",
   "name": "python",
   "nbconvert_exporter": "python",
   "pygments_lexer": "ipython3",
   "version": "3.9.7"
  }
 },
 "nbformat": 4,
 "nbformat_minor": 5
}
