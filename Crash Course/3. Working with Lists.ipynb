{
 "cells": [
  {
   "cell_type": "markdown",
   "id": "705ee429",
   "metadata": {},
   "source": [
    "# Looping Through an Entire List"
   ]
  },
  {
   "cell_type": "markdown",
   "id": "6c71ec59",
   "metadata": {},
   "source": [
    "A list of magicians’ names, and to print out each name in the list."
   ]
  },
  {
   "cell_type": "code",
   "execution_count": 1,
   "id": "f74f2b31",
   "metadata": {},
   "outputs": [
    {
     "name": "stdout",
     "output_type": "stream",
     "text": [
      "alice\n",
      "david\n",
      "carolina\n"
     ]
    }
   ],
   "source": [
    "magicians = ['alice', 'david', 'carolina']\n",
    "for magician in magicians:\n",
    "    print(magician)"
   ]
  },
  {
   "cell_type": "markdown",
   "id": "00bc68f2",
   "metadata": {},
   "source": [
    "Printing a message to each magician, telling them that they performed a great trick:"
   ]
  },
  {
   "cell_type": "code",
   "execution_count": 3,
   "id": "80aca36c",
   "metadata": {},
   "outputs": [
    {
     "name": "stdout",
     "output_type": "stream",
     "text": [
      "Alice, that was a great trick!\n",
      "David, that was a great trick!\n",
      "Carolina, that was a great trick!\n"
     ]
    }
   ],
   "source": [
    "magicians = ['alice', 'david', 'carolina']\n",
    "for magician in magicians:\n",
    "    print(magician.title() + \", that was a great trick!\")"
   ]
  },
  {
   "cell_type": "markdown",
   "id": "5b75fd99",
   "metadata": {},
   "source": [
    "Telling each magician that we’re\n",
    "looking forward to their next trick:"
   ]
  },
  {
   "cell_type": "code",
   "execution_count": 7,
   "id": "c8d11f8d",
   "metadata": {},
   "outputs": [
    {
     "name": "stdout",
     "output_type": "stream",
     "text": [
      "Alice, that was a great trick!\n",
      "I can't wait to see your next trick, Alice.\n",
      "\n",
      "David, that was a great trick!\n",
      "I can't wait to see your next trick, David.\n",
      "\n",
      "Carolina, that was a great trick!\n",
      "I can't wait to see your next trick, Carolina.\n",
      "\n"
     ]
    }
   ],
   "source": [
    "magicians = ['alice', 'david', 'carolina']\n",
    "for magician in magicians:\n",
    "    print(magician.title() + \", that was a great trick!\")\n",
    "    print(\"I can't wait to see your next trick, \" + magician.title() + \".\\n\")"
   ]
  },
  {
   "cell_type": "markdown",
   "id": "37632005",
   "metadata": {},
   "source": [
    "Code after the for loop that are not indented are executed\n",
    "once without repetition."
   ]
  },
  {
   "cell_type": "code",
   "execution_count": 10,
   "id": "4e2d4d7b",
   "metadata": {},
   "outputs": [
    {
     "name": "stdout",
     "output_type": "stream",
     "text": [
      "Alice, that was a great trick!\n",
      "I can't wait to see your next trick, Alice.\n",
      "\n",
      "David, that was a great trick!\n",
      "I can't wait to see your next trick, David.\n",
      "\n",
      "Carolina, that was a great trick!\n",
      "I can't wait to see your next trick, Carolina.\n",
      "\n",
      "Thank you, everyone. That was a great magic show!\n"
     ]
    }
   ],
   "source": [
    "magicians = ['alice', 'david', 'carolina']\n",
    "for magician in magicians:\n",
    "    print(magician.title() + \", that was a great trick!\")\n",
    "    print(\"I can't wait to see your next trick, \" + magician.title() + \".\\n\")\n",
    "\n",
    "print(\"Thank you, everyone. That was a great magic show!\")"
   ]
  },
  {
   "cell_type": "markdown",
   "id": "5094cedc",
   "metadata": {},
   "source": [
    "# Making Numerical Lists"
   ]
  },
  {
   "cell_type": "markdown",
   "id": "7ca7fc40",
   "metadata": {},
   "source": [
    "Many reasons exist to store a set of numbers. For example, you’ll need to\n",
    "keep track of the positions of each character in a game, and you might want\n",
    "to keep track of a player’s high scores"
   ]
  },
  {
   "cell_type": "markdown",
   "id": "1b2428cd",
   "metadata": {},
   "source": [
    "In data visualizations, you’ll\n",
    "almost always work with sets of numbers, such as temperatures, distances,\n",
    "population sizes, or latitude and longitude values, among other types of\n",
    "numerical sets."
   ]
  },
  {
   "cell_type": "markdown",
   "id": "ba6c57f9",
   "metadata": {},
   "source": [
    "range() Function"
   ]
  },
  {
   "cell_type": "code",
   "execution_count": 13,
   "id": "fcdee348",
   "metadata": {},
   "outputs": [
    {
     "name": "stdout",
     "output_type": "stream",
     "text": [
      "1\n",
      "2\n",
      "3\n",
      "4\n"
     ]
    }
   ],
   "source": [
    "for value in range(1,5):\n",
    "    print(value)"
   ]
  },
  {
   "cell_type": "markdown",
   "id": "c617eff8",
   "metadata": {},
   "source": [
    "In this example, range() prints only the numbers 1 through 4. This is\n",
    "another result of the off-by-one behavior you’ll see often in programming\n",
    "languages. The range() function causes Python to start counting at the first\n",
    "value you give it, and it stops when it reaches the second value you provide."
   ]
  },
  {
   "cell_type": "markdown",
   "id": "556c1ecf",
   "metadata": {},
   "source": [
    "To print the numbers from 1 to 5:"
   ]
  },
  {
   "cell_type": "code",
   "execution_count": 15,
   "id": "f5ca0d22",
   "metadata": {},
   "outputs": [
    {
     "name": "stdout",
     "output_type": "stream",
     "text": [
      "1\n",
      "2\n",
      "3\n",
      "4\n",
      "5\n"
     ]
    }
   ],
   "source": [
    "for value in range(1,6):\n",
    "    print(value)"
   ]
  },
  {
   "cell_type": "markdown",
   "id": "0ac83aef",
   "metadata": {},
   "source": [
    "Using range() to Make a List of Numbers. use list() to convert that same set of numbers into a list:"
   ]
  },
  {
   "cell_type": "code",
   "execution_count": 19,
   "id": "ea68cea7",
   "metadata": {},
   "outputs": [
    {
     "name": "stdout",
     "output_type": "stream",
     "text": [
      "[1, 2, 3, 4, 5]\n"
     ]
    }
   ],
   "source": [
    "numbers = list(range(1,6))\n",
    "print(numbers)"
   ]
  },
  {
   "cell_type": "code",
   "execution_count": 21,
   "id": "f76ab41b",
   "metadata": {},
   "outputs": [
    {
     "name": "stdout",
     "output_type": "stream",
     "text": [
      "[2, 4, 6, 8, 10]\n"
     ]
    }
   ],
   "source": [
    "# list the even numbers between 1 and 10:\n",
    "even_numbers = list(range(2,11,2))\n",
    "print(even_numbers)"
   ]
  },
  {
   "cell_type": "markdown",
   "id": "a3ac31c4",
   "metadata": {},
   "source": [
    "Make a list of the first 10\n",
    "square numbers (that is, the square of each integer from 1 through 10). In\n",
    "Python, two asterisks (**) represent exponents."
   ]
  },
  {
   "cell_type": "code",
   "execution_count": 22,
   "id": "81e57bf8",
   "metadata": {},
   "outputs": [
    {
     "name": "stdout",
     "output_type": "stream",
     "text": [
      "[1]\n",
      "[1, 4]\n",
      "[1, 4, 9]\n",
      "[1, 4, 9, 16]\n",
      "[1, 4, 9, 16, 25]\n",
      "[1, 4, 9, 16, 25, 36]\n",
      "[1, 4, 9, 16, 25, 36, 49]\n",
      "[1, 4, 9, 16, 25, 36, 49, 64]\n",
      "[1, 4, 9, 16, 25, 36, 49, 64, 81]\n",
      "[1, 4, 9, 16, 25, 36, 49, 64, 81, 100]\n"
     ]
    }
   ],
   "source": [
    "squares = []\n",
    "for value in range(1,11):\n",
    "    square = value**2\n",
    "    squares.append(square)\n",
    "    print(squares)"
   ]
  },
  {
   "cell_type": "markdown",
   "id": "9a7a967d",
   "metadata": {},
   "source": [
    "# Simple Statistics with a List of Numbers"
   ]
  },
  {
   "cell_type": "code",
   "execution_count": 28,
   "id": "ee7c15ef",
   "metadata": {},
   "outputs": [],
   "source": [
    "# find the minimum, maximum, and sum of a list of numbers:"
   ]
  },
  {
   "cell_type": "code",
   "execution_count": 25,
   "id": "c319230c",
   "metadata": {},
   "outputs": [
    {
     "data": {
      "text/plain": [
       "0"
      ]
     },
     "execution_count": 25,
     "metadata": {},
     "output_type": "execute_result"
    }
   ],
   "source": [
    "digits = [1, 2, 3, 4, 5, 6, 7, 8, 9, 0]\n",
    "min(digits)"
   ]
  },
  {
   "cell_type": "code",
   "execution_count": 26,
   "id": "15f92a87",
   "metadata": {},
   "outputs": [
    {
     "data": {
      "text/plain": [
       "9"
      ]
     },
     "execution_count": 26,
     "metadata": {},
     "output_type": "execute_result"
    }
   ],
   "source": [
    "max(digits)\n"
   ]
  },
  {
   "cell_type": "code",
   "execution_count": 27,
   "id": "ec7bb640",
   "metadata": {},
   "outputs": [
    {
     "data": {
      "text/plain": [
       "45"
      ]
     },
     "execution_count": 27,
     "metadata": {},
     "output_type": "execute_result"
    }
   ],
   "source": [
    "sum(digits)"
   ]
  },
  {
   "cell_type": "markdown",
   "id": "e50a92d1",
   "metadata": {},
   "source": [
    "# List Comprehensions"
   ]
  },
  {
   "cell_type": "markdown",
   "id": "6dc3f445",
   "metadata": {},
   "source": [
    "list comprehension allows you to generate\n",
    "this same list in just one line of code. A list comprehension combines the\n",
    "for loop and the creation of new elements into one line, and automatically\n",
    "appends each new element."
   ]
  },
  {
   "cell_type": "code",
   "execution_count": 29,
   "id": "22deb172",
   "metadata": {},
   "outputs": [
    {
     "name": "stdout",
     "output_type": "stream",
     "text": [
      "[1, 4, 9, 16, 25, 36, 49, 64, 81, 100]\n"
     ]
    }
   ],
   "source": [
    "squares = [value**2 for value in range(1,11)]\n",
    "print(squares)"
   ]
  },
  {
   "cell_type": "markdown",
   "id": "8b06aff8",
   "metadata": {},
   "source": [
    "# Working with Part of a List"
   ]
  },
  {
   "cell_type": "markdown",
   "id": "12774a34",
   "metadata": {},
   "source": [
    "Slicing a List"
   ]
  },
  {
   "cell_type": "markdown",
   "id": "031b1dc1",
   "metadata": {},
   "source": [
    "To make a slice, you specify the index of the first and last elements you\n",
    "want to work with. As with the range() function, Python stops one item\n",
    "before the second index you specify. To output the first three elements\n",
    "in a list, you would request indices 0 through 3, which would return elements\n",
    "0, 1, and 2."
   ]
  },
  {
   "cell_type": "code",
   "execution_count": 31,
   "id": "08c1cb42",
   "metadata": {},
   "outputs": [
    {
     "name": "stdout",
     "output_type": "stream",
     "text": [
      "['charles', 'martina', 'michael']\n"
     ]
    }
   ],
   "source": [
    "players = ['charles', 'martina', 'michael', 'florence', 'eli']\n",
    "print(players[0:3])"
   ]
  },
  {
   "cell_type": "code",
   "execution_count": 32,
   "id": "b0a7f9db",
   "metadata": {},
   "outputs": [
    {
     "name": "stdout",
     "output_type": "stream",
     "text": [
      "['martina', 'michael', 'florence']\n"
     ]
    }
   ],
   "source": [
    "print(players[1:4])"
   ]
  },
  {
   "cell_type": "code",
   "execution_count": 33,
   "id": "d4a0d5a2",
   "metadata": {},
   "outputs": [
    {
     "name": "stdout",
     "output_type": "stream",
     "text": [
      "['charles', 'martina', 'michael', 'florence']\n"
     ]
    }
   ],
   "source": [
    "# Without a starting index, Python starts at the beginning of the list:\n",
    "print(players[:4])"
   ]
  },
  {
   "cell_type": "code",
   "execution_count": 36,
   "id": "1a923207",
   "metadata": {},
   "outputs": [
    {
     "name": "stdout",
     "output_type": "stream",
     "text": [
      "['michael', 'florence', 'eli']\n"
     ]
    }
   ],
   "source": [
    "# Slice all items from the third item through the last item, you can start with index 2 and omit the second index:\n",
    "players = ['charles', 'martina', 'michael', 'florence', 'eli']\n",
    "print(players[2:])"
   ]
  },
  {
   "cell_type": "code",
   "execution_count": 37,
   "id": "38f9d8a0",
   "metadata": {},
   "outputs": [
    {
     "name": "stdout",
     "output_type": "stream",
     "text": [
      "['michael', 'florence', 'eli']\n"
     ]
    }
   ],
   "source": [
    "# output the last three players on the roster, we can use the slice \n",
    "# players[-3:]:\n",
    "\n",
    "players = ['charles', 'martina', 'michael', 'florence', 'eli']\n",
    "print(players[-3:])\n"
   ]
  },
  {
   "cell_type": "markdown",
   "id": "a8ad567a",
   "metadata": {},
   "source": [
    "# Looping Through a Slice"
   ]
  },
  {
   "cell_type": "code",
   "execution_count": 39,
   "id": "d9180386",
   "metadata": {},
   "outputs": [
    {
     "name": "stdout",
     "output_type": "stream",
     "text": [
      "Here are the first three players on my team:\n",
      "Charles\n",
      "Martina\n",
      "Michael\n"
     ]
    }
   ],
   "source": [
    "players = ['charles', 'martina', 'michael', 'florence', 'eli']\n",
    "print(\"Here are the first three players on my team:\")\n",
    "for player in players[:3]:\n",
    "    print(player.title())"
   ]
  },
  {
   "cell_type": "markdown",
   "id": "bf33bb59",
   "metadata": {},
   "source": [
    "Slices are very useful in a number of situations. For instance, when you’re\n",
    "creating a game, you could add a player’s final score to a list every time that\n",
    "player finishes playing. You could then get a player’s top three scores by sorting\n",
    "the list in decreasing order and taking a slice that includes just the first\n",
    "three scores."
   ]
  },
  {
   "cell_type": "markdown",
   "id": "f674ca7c",
   "metadata": {},
   "source": [
    "# Copying a List"
   ]
  },
  {
   "cell_type": "markdown",
   "id": "b52681aa",
   "metadata": {},
   "source": [
    "a list of our favorite foods and want to\n",
    "make a separate list of foods that a friend likes. This friend likes everything\n",
    "in our list so far, so we can create their list by copying ours:"
   ]
  },
  {
   "cell_type": "code",
   "execution_count": 40,
   "id": "28c9555f",
   "metadata": {},
   "outputs": [
    {
     "name": "stdout",
     "output_type": "stream",
     "text": [
      "My favorite foods are:\n",
      "['pizza', 'falafel', 'carrot cake']\n",
      "\n",
      "My friend's favorite foods are:\n",
      "['pizza', 'falafel', 'carrot cake']\n"
     ]
    }
   ],
   "source": [
    "my_foods = ['pizza', 'falafel', 'carrot cake']\n",
    "friend_foods = my_foods[:]\n",
    "print(\"My favorite foods are:\")\n",
    "print(my_foods)\n",
    "print(\"\\nMy friend's favorite foods are:\")\n",
    "print(friend_foods)"
   ]
  },
  {
   "cell_type": "markdown",
   "id": "b2ed9139",
   "metadata": {},
   "source": [
    "To prove that we actually have two separate lists, we’ll add a new food\n",
    "to each list and show that each list keeps track of the appropriate person’s\n",
    "favorite foods:"
   ]
  },
  {
   "cell_type": "code",
   "execution_count": 44,
   "id": "affd7d12",
   "metadata": {},
   "outputs": [],
   "source": [
    "my_foods = ['pizza', 'falafel', 'carrot cake']\n",
    "friend_foods = my_foods[:]\n",
    "\n",
    "my_foods.append('cannoli')\n",
    "friend_foods.append('ice cream')"
   ]
  },
  {
   "cell_type": "code",
   "execution_count": 45,
   "id": "837b9861",
   "metadata": {},
   "outputs": [
    {
     "name": "stdout",
     "output_type": "stream",
     "text": [
      "My favorite foods are:\n",
      "['pizza', 'falafel', 'carrot cake', 'cannoli']\n",
      "\n",
      "My friend's favorite foods are:\n",
      "['pizza', 'falafel', 'carrot cake', 'ice cream']\n"
     ]
    }
   ],
   "source": [
    "print(\"My favorite foods are:\")\n",
    "print(my_foods)\n",
    "\n",
    "print(\"\\nMy friend's favorite foods are:\")\n",
    "print(friend_foods)"
   ]
  },
  {
   "cell_type": "markdown",
   "id": "34387306",
   "metadata": {},
   "source": [
    "# Tuples"
   ]
  },
  {
   "cell_type": "markdown",
   "id": "d4c680b8",
   "metadata": {},
   "source": [
    "Lists work well for storing sets of items that can change throughout the\n",
    "life of a program. The ability to modify lists is particularly important when\n",
    "you’re working with a list of users on a website or a list of characters in a\n",
    "game. However, sometimes you’ll want to create a list of items that cannot\n",
    "change. Tuples allow you to do just that. Python refers to values that cannot\n",
    "change as immutable, and an immutable list is called a tuple."
   ]
  },
  {
   "cell_type": "markdown",
   "id": "e56e12b3",
   "metadata": {},
   "source": [
    "A tuple looks just like a list except you use parentheses instead of square\n",
    "brackets. Once you define a tuple, you can access individual elements by\n",
    "using each item’s index, just as you would for a list."
   ]
  },
  {
   "cell_type": "code",
   "execution_count": 47,
   "id": "9d0563fb",
   "metadata": {},
   "outputs": [
    {
     "name": "stdout",
     "output_type": "stream",
     "text": [
      "200\n",
      "50\n"
     ]
    }
   ],
   "source": [
    "dimensions = (200, 50)\n",
    "print(dimensions[0])\n",
    "print(dimensions[1])"
   ]
  },
  {
   "cell_type": "code",
   "execution_count": 49,
   "id": "f5e11011",
   "metadata": {},
   "outputs": [
    {
     "name": "stdout",
     "output_type": "stream",
     "text": [
      "200\n",
      "50\n"
     ]
    }
   ],
   "source": [
    "# loop over all the values in a tuple using a for loop\n",
    "dimensions = (200, 50)\n",
    "for dimension in dimensions:\n",
    "    print(dimension)"
   ]
  },
  {
   "cell_type": "markdown",
   "id": "bc46e266",
   "metadata": {},
   "source": [
    "# Writing over a Tuple"
   ]
  },
  {
   "cell_type": "markdown",
   "id": "ae961c36",
   "metadata": {},
   "source": [
    "can’t modify a tuple, you can assign a new value to a variable\n",
    "that holds a tuple. So if we wanted to change our dimensions, we could\n",
    "redefine the entire tuple:"
   ]
  },
  {
   "cell_type": "code",
   "execution_count": 53,
   "id": "6171a9e9",
   "metadata": {},
   "outputs": [
    {
     "name": "stdout",
     "output_type": "stream",
     "text": [
      "Original dimensions:\n",
      "200\n",
      "50\n",
      "\n",
      "Modified dimensions:\n",
      "400\n",
      "100\n"
     ]
    }
   ],
   "source": [
    "dimensions = (200, 50)\n",
    "print(\"Original dimensions:\")\n",
    "\n",
    "for dimension in dimensions:\n",
    "    print(dimension)\n",
    "    dimensions = (400, 100)\n",
    "print(\"\\nModified dimensions:\")\n",
    "\n",
    "for dimension in dimensions:\n",
    "    print(dimension)"
   ]
  },
  {
   "cell_type": "code",
   "execution_count": null,
   "id": "8935b3cf",
   "metadata": {},
   "outputs": [],
   "source": []
  },
  {
   "cell_type": "code",
   "execution_count": null,
   "id": "cc7b9816",
   "metadata": {},
   "outputs": [],
   "source": []
  },
  {
   "cell_type": "code",
   "execution_count": null,
   "id": "ba42ff81",
   "metadata": {},
   "outputs": [],
   "source": []
  },
  {
   "cell_type": "code",
   "execution_count": null,
   "id": "1d7d1928",
   "metadata": {},
   "outputs": [],
   "source": []
  },
  {
   "cell_type": "code",
   "execution_count": null,
   "id": "c470d6a2",
   "metadata": {},
   "outputs": [],
   "source": []
  },
  {
   "cell_type": "code",
   "execution_count": null,
   "id": "70eb38ca",
   "metadata": {},
   "outputs": [],
   "source": []
  },
  {
   "cell_type": "code",
   "execution_count": null,
   "id": "c871f182",
   "metadata": {},
   "outputs": [],
   "source": []
  },
  {
   "cell_type": "code",
   "execution_count": null,
   "id": "0cfa1671",
   "metadata": {},
   "outputs": [],
   "source": []
  },
  {
   "cell_type": "code",
   "execution_count": null,
   "id": "b9010b36",
   "metadata": {},
   "outputs": [],
   "source": []
  }
 ],
 "metadata": {
  "kernelspec": {
   "display_name": "Python 3 (ipykernel)",
   "language": "python",
   "name": "python3"
  },
  "language_info": {
   "codemirror_mode": {
    "name": "ipython",
    "version": 3
   },
   "file_extension": ".py",
   "mimetype": "text/x-python",
   "name": "python",
   "nbconvert_exporter": "python",
   "pygments_lexer": "ipython3",
   "version": "3.9.7"
  }
 },
 "nbformat": 4,
 "nbformat_minor": 5
}
